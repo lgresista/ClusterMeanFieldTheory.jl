{
 "cells": [
  {
   "cell_type": "markdown",
   "id": "d057a40a-1dd4-4f0a-8777-33969b812a7d",
   "metadata": {},
   "source": [
    "# ClusterMeanFieldTheory.jl"
   ]
  },
  {
   "cell_type": "markdown",
   "id": "061981fa-6111-48a6-bd65-361258ea8f25",
   "metadata": {},
   "source": [
    "## What this package does"
   ]
  },
  {
   "cell_type": "markdown",
   "id": "417a1b17-0f2f-40f4-a33a-f1e5f9ef5447",
   "metadata": {},
   "source": [
    "This package is designed to use the cluster-mean-field approxmiation to find the ground state of quantum spin models. Currently it is limited to Heisenberg Hamiltonians of the form\n",
    "\n",
    "$$\n",
    "    H = \\sum_{ij} J_{ij} \\mathbf{S}_i \\mathbf{S}_j \\, .\n",
    "$$\n",
    "\n",
    "with SU(2) spin-operators $\\mathbf{S}_i$ with $S = 1/2$.\n",
    "\n",
    "The main idea of CMFT is to devidie the full crystal lattice into small clusters, and then treat the interactions of spins within a small cluster $\\mathcal{C}$ exactly, but approximate interactions of spins in different clusters with a standard mean-field decoupling\n",
    "$$    \n",
    "    \\mathbf{S}_i \\cdot \\mathbf{S}_j \\approx \\langle \\mathbf{S}_i \\rangle \\cdot \\mathbf{S}_j + \\mathbf{S}_i \\cdot \\langle \\mathbf{S}_j \\rangle - \\langle \\mathbf{S}_i \\rangle \\cdot \\langle \\mathbf{S}_j \\rangle \\, .\n",
    "$$\n",
    "\n",
    "This makes it possible to rewrite the Hamiltonian as a sum of single-cluster Hamiltonians\n",
    "\n",
    "$$\n",
    "H = \\sum_{i} H_\\mathcal{C}\n",
    "$$\n",
    "\n",
    "of the form\n",
    "\n",
    "$$\n",
    "     H_\\mathcal{C} = \\sum_{i, j \\in \\mathcal{C}} J_{ij} \\mathbf{S}_i \\cdot \\mathbf{S}_j + \n",
    "     \\sum_{i \\in C} \\mathbf{h}^\\mathcal{C}_i \\cdot \\mathbf{S}_i + C_\\mathcal{C}\n",
    "$$\n",
    "\n",
    "where the effective fields $\\mathbf{h}_i^\\mathcal{C}$ and the energy shift $C^\\mathcal{C}$ originate from the inter-cluster mean-field interactions and a priori depend on the magnetizations $\\langle \\mathbf{S}_j \\rangle$ of sites also in neighboring clusters. For the clusters to fully decouple, we use periodic boundary conditions by assuming that the magnetization patterns repeat identically across all clusters. To this end, we split the site index into $i = (\\mathcal{C}, \\alpha)$, where $\\mathcal{C}$ denotes the cluster and $\\alpha = 1, \\dots, N_\\mathcal{C}$ the site within this cluster. Periodic boundary conditions then imply \n",
    "$$\n",
    "\\langle \\mathbf{S}_{\\mathcal{C}\\alpha} \\rangle = \\langle \\mathbf{S}_{\\mathcal{C}'\\alpha}\\rangle \\equiv \\mathbf{m}_\\alpha \\, ,\n",
    "$$\n",
    "\n",
    "to hold for all clusters $\\mathcal{C}, \\mathcal{C}'$. This defines the $N_C$ cluster-independent magnetizations $\\mathbf{m}_\\alpha$, from which the now cluster-independent effective fields $\\mathbf{h}_\\alpha$ and the energy shift $C$ can be calculated using the formulas\n",
    "\n",
    "$$\n",
    "\\mathbf{h_\\alpha} = \n",
    "\\sum_{\\mathcal{C}' \\neq \\mathcal{C}} \\sum_{\\beta = 1}^{N_\\mathcal{C}}\n",
    "\\left(J_{\\mathcal{C}\\alpha, \\mathcal{C}'\\beta} + J_{\\mathcal{C}'\\beta, \\mathcal{C}\\alpha}\\right)\\mathbf{m}_\\beta\n",
    "$$\n",
    "\n",
    "and the constant energy shift \\( C \\) is\n",
    "\n",
    "$$\n",
    "C = \n",
    "\\sum_{\\mathcal{C}' \\neq \\mathcal{C}} \\sum_{\\alpha,\\beta = 1}^{N_\\mathcal{C}}\n",
    "\\left(J_{\\mathcal{C}\\alpha, \\mathcal{C}'\\beta} + J_{\\mathcal{C}'\\beta, \\mathcal{C}\\alpha}\\right)\n",
    "\\mathbf{m}_\\alpha \\mathbf{m}_\\beta \\, \n",
    "$$\n",
    "\n",
    "where $\\mathcal{C}$ is now an arbitrary reference cluster.\n",
    "\n",
    "Since the single-cluster Hamiltonian $H_\\mathcal{C}$ depends on the magnetizations $\\mathbf{m}_\\alpha$ and these in turn depend on the ground state of $H_\\mathcal{C}$, the magnetizations must be determined self-consistently. This is what is implemented in this package. "
   ]
  },
  {
   "cell_type": "markdown",
   "id": "953091e1-1fe4-498d-b48c-932618bcab2b",
   "metadata": {},
   "source": [
    "## Fixed-point iteration for the ground state"
   ]
  },
  {
   "cell_type": "markdown",
   "id": "8f41a5c2-be22-40ef-b668-b8ff0660c14d",
   "metadata": {},
   "source": [
    "For the self-consistent determination of the ground state, this package uses a damped fixed-point iteration, where at each iteration step $n$, an updated set of magnetizations $\\mathbf{m}_\\alpha^{n+1}$ is computed based on the values from the previous step $\\mathbf{m}_\\alpha^n$ as follows:  \n",
    "\n",
    "1. Calculate the effective fields $\\mathbf{h}_\\alpha$ from $\\mathbf{m}_\\alpha^n$ using the expression for the effective fields given above.  \n",
    "2. Determine the ground state of the resulting single-cluster Hamiltonian $H_\\mathcal{C}$ using the Lanczos algorithm.  \n",
    "3. Calculate the magnetizations  \n",
    "   $$\n",
    "   \\mathbf{m}_\\alpha^{\\mathrm{new}} = \\langle \\mathbf{S}_\\alpha \\rangle\n",
    "   $$\n",
    "   in this ground state.  \n",
    "4. Update the magnetizations according to  \n",
    "   $$\n",
    "   \\mathbf{m}_\\alpha^{n+1} = (1 - \\lambda) \\mathbf{m}_\\alpha^{\\mathrm{new}} + \\lambda \\mathbf{m}_\\alpha^n \\, ,\n",
    "   $$\n",
    "   where $\\lambda \\in (0, 1]$ is a damping parameter used to improve convergence, typically set to $\\lambda = 0.5$.  \n",
    "5. Stop the iteration if  \n",
    "   $$\n",
    "   \\sum_\\alpha |\\mathbf{m}_\\alpha^{n+1} - \\mathbf{m}_\\alpha^n| < abstol \\, ,\n",
    "   $$\n",
    "   otherwise continue with the next step.  \n",
    "\n",
    "Once convergence is reached, one can calculate the final ground state using the self-consistent magnetizations. From this ground state, various observables can then be straightforwardly computed.\n"
   ]
  },
  {
   "cell_type": "markdown",
   "id": "3e2865a8-e9af-454c-9cbc-53985855f14a",
   "metadata": {},
   "source": [
    "## Usage\n",
    "\n",
    "In principle, one can define an arbitrary spin cluster by manually specifying positions of the cluster sites, interactions that are treated exactly and interaction that are to be mean-field approximated. For spin clusters with periodic boundary conditions that are multiples of the unit cell of conventional lattice spin model, however, we have automated this. We illustrate how to use the package for this usecase by showing the example of the $J_1-J_2$ Heisenberg model on the square lattice. We first provide the code and then explain what happens in detail below."
   ]
  },
  {
   "cell_type": "code",
   "execution_count": 32,
   "id": "d6bf10b2-409d-4fb7-9321-5c2e83a7aee0",
   "metadata": {},
   "outputs": [],
   "source": [
    "using ClusterMeanFieldTheory\n",
    "using LinearAlgebra\n",
    "\n",
    "# The geometric unit cell is specified by defining a UnitCell (type reexported from LatticeUtilities.jl)\n",
    "uc = UnitCell(lattice_vecs = [[1.,0.],[0.,1.]],\n",
    "                     basis_vecs   = [[0.,0.]])\n",
    "\n",
    "# implement nearest-neighbor interaction with label 1 \n",
    "# and next-nearest neighbor interaction with label 2\n",
    "bonds = [\n",
    "    LabeledBond((1, 1), (1, 0), 1),\n",
    "    LabeledBond((1, 1), (0, 1), 1),\n",
    "    LabeledBond((1, 1), (1, 1), 2),\n",
    "    LabeledBond((1, 1), (1, -1), 2)\n",
    "]\n",
    "\n",
    "# Define the cluster size\n",
    "L = [2, 2]\n",
    "\n",
    "# Define the coupling J = [J_1, J_2]\n",
    "# first index is applied to bonds with label 1, second to bonds with label 2\n",
    "J = [1.0, 0.2] \n",
    "\n",
    "# Obtain the mean-field cluster \n",
    "mfcluster = get_meanfield_cluster(uc, bonds, J, L);\n",
    "\n",
    "# Choosing initial magnetizations (in this case randomly)\n",
    "m0 = [rand(3).-0.5 for _ in 1:get_nsites(mfcluster)]\n",
    "\n",
    "# Update these magnetizations in mfcluster\n",
    "set_magnetizations!(mfcluster, m0)\n",
    "\n",
    "# Recalculate the effective fields h_α (!!! not done automatically !!!)\n",
    "recalculate_magnetic_fields!(mfcluster)\n",
    "\n",
    "# Apply damped fixed points iterations\n",
    "is_converged, iteration, abserror = fixedpoint_iteration!(\n",
    "    mfcluster; # meanfield cluster\n",
    "    max_iterations = 1000, # maximal number of iterations\n",
    "    abstol = 1e-8, # tolerance after which iteration is stopped\n",
    "    β = 0.5, # damping parameter\n",
    "    verbose = false # toggle verbose output\n",
    ")\n",
    "\n",
    "# Final results:\n",
    "final_magnetizations = deepcopy(mfcluster.magnetizations)\n",
    "e0, groundstate = calculate_groundstate_and_energy(mfcluster);\n",
    "\n",
    "## Example for observables: Calculate correlations <ψ| S_i ⋅ S_j |ψ>\n",
    "\n",
    "# Obtain matrix representation of all spin-operators in the format \n",
    "# [[S_1^x, S_1^y, S_1^z], [S_1^x, S_1^y, S_1^z]...]\n",
    "spin_operators = calculate_spinoperators(mfcluster.spincluster.nsites)\n",
    "\n",
    "# Select sites\n",
    "i, j = 1, 2\n",
    "\n",
    "Si = spin_operators[i]\n",
    "Sj = spin_operators[j]\n",
    "\n",
    "# Calculate <ψ| S_i ⋅ S_j |ψ> \n",
    "SiSj = sum(real(dot(groundstate, Si[μ], Sj[μ] * groundstate)) for μ in 1:3);"
   ]
  },
  {
   "cell_type": "markdown",
   "id": "0cc24dc8-58da-493c-9b6e-79d566dffa3d",
   "metadata": {},
   "source": [
    "#### The mfcluster object\n",
    "\n",
    "The object ```mfcluster``` is of type ```MeanFieldCluster``` which has the following fields:\n",
    "- ```mfcluster.magnetizations```: Current magnetizations $m_\\alpha$\n",
    "- ```mfcluster.meanfieldinteractions```: Interactions that are mean-field approximated\n",
    "- ```mfcluster.spincluster```: All information for the single-cluster Hamiltonian\n",
    "\n",
    "The object ```spincluster = mfcluster.spincluster``` is of type ```SpinCluster``` which saves the single-cluster Hamiltoniain $H_C$ that is used as input in the exact diagonalization. It has the follwing fields\n",
    "\n",
    "- ```spincluster.positions```: Contains positions of the sites\n",
    "- ```spincluster.interactions```: Contains the interactions of sites within the cluster that are treated exactly\n",
    "- ```spincluster.magnetic_fields```: contains the effective fields $h_\\alpha$\n",
    "- ```spincluster.nsites```: Number of sites in the cluster\n",
    "\n",
    "The function ```get_meanfield_cluster(uc, bonds, J, L)``` automatically determines all interactions within a cluster of size $L = L_1 \\times L_2$ and saves them with the correct coupling $J_\\mathrm{label}$ in the field ```mfcluster.spincluster.interactions```. It also determines the interactions that would occur between sites of different clusters (which will be mean-field approximated), and maps the sites back to sites within the cluster applying periodic boundary conditions. These are stored in ```mfcluster.meanfieldinteractions```.\n",
    "\n",
    "#### Setting initial magnetizations\n",
    "The function ```set_magnetizations!(mfcluster, m0)``` updates the initial magnetizations in ```mfcluster.magnetizations```, and ```recalculate_magnetic_fields!(mfcluster)``` recalculates the effective fields with the new magnetization and stores them in ```spincluster.magnetic_fields```.\n",
    "\n",
    "#### Performing the fixed point iteration\n",
    "The function ```fixedpoint_iteration!(mfcluster; max_iterations = 1000, abstol = 1e-8, β = 0.5, verbose = false)``` which iteratively updates the magnetizations until they are converged. The converged magnetizations are stored in ```mfcluster.magnetizations```. \n",
    "\n",
    "#### Calculating ground-state observables\n",
    "To obtain the ground-state energy and the ground state itself one can use ```calculate_groundstate_and_energy(mfcluster)```. The ground state is given in the local basis of the $S^z$ operator, where each site can have spin $s_i = (+1/2, -1/2) = (\\uparrow, \\downarrow) = (1, 0)$. The n-th basis state $|n\\rangle = |s_1 s_2 s_3, \\dots, s_N \\rangle$ is then defined by the binary represenation $n = \\sum_{i = 1}^N 2^{i-1} s_i$. \n",
    "\n",
    "For a general operator $\\hat{O}$, expectation values can be calculated by ```dot(groundstate, O, groundstate)```, where $O$ is the matrix representation of the operator in the above basis. The matrix-representation of the spin-operators on each site and in each components for a cluster of site N can be obtained by  ```calculate_spinoperators(N)```. From these, the matrix representation of most operators can be calculated (although this may be costly for large clusters)."
   ]
  },
  {
   "cell_type": "code",
   "execution_count": 33,
   "id": "4851b09a-5ecc-4fec-8243-af4c1963040a",
   "metadata": {},
   "outputs": [
    {
     "data": {
      "text/plain": [
       "1-element Vector{Int64}:\n",
       " 3"
      ]
     },
     "execution_count": 33,
     "metadata": {},
     "output_type": "execute_result"
    }
   ],
   "source": [
    "digits(3)"
   ]
  },
  {
   "cell_type": "code",
   "execution_count": null,
   "id": "708b33a4-32e4-4cd4-94c6-9d48b1adaf9c",
   "metadata": {},
   "outputs": [],
   "source": [
    "mfcluster.spincluster."
   ]
  },
  {
   "cell_type": "markdown",
   "id": "4b05ded2-8ab8-457e-9674-601dca90ab57",
   "metadata": {},
   "source": [
    "\n",
    "\n",
    "The positions of the sites are stored in ```mfcluster.spincluster.positions```. All of these fields could have been also defined manually by directly initialzing an object of type ```MeanFieldCluster```."
   ]
  },
  {
   "cell_type": "code",
   "execution_count": 8,
   "id": "a8493b8c-b9ce-4f0a-aad1-45b7cd5fb91c",
   "metadata": {},
   "outputs": [
    {
     "data": {
      "text/plain": [
       "10-element Vector{HeisenbergInteraction}:\n",
       " HeisenbergInteraction(1.0, (2, 1))\n",
       " HeisenbergInteraction(1.0, (4, 3))\n",
       " HeisenbergInteraction(1.0, (3, 1))\n",
       " HeisenbergInteraction(1.0, (4, 2))\n",
       " HeisenbergInteraction(0.2, (2, 3))\n",
       " HeisenbergInteraction(0.2, (3, 2))\n",
       " HeisenbergInteraction(0.2, (4, 1))\n",
       " HeisenbergInteraction(0.2, (1, 4))\n",
       " HeisenbergInteraction(0.2, (2, 3))\n",
       " HeisenbergInteraction(0.2, (4, 1))"
      ]
     },
     "execution_count": 8,
     "metadata": {},
     "output_type": "execute_result"
    }
   ],
   "source": [
    "mfcluster.meanfieldinteractions"
   ]
  },
  {
   "cell_type": "code",
   "execution_count": 10,
   "id": "018cc3fb-59b7-476f-a045-5037ce34d68b",
   "metadata": {},
   "outputs": [
    {
     "data": {
      "text/plain": [
       "6-element Vector{HeisenbergInteraction}:\n",
       " HeisenbergInteraction(1.0, (1, 2))\n",
       " HeisenbergInteraction(1.0, (3, 4))\n",
       " HeisenbergInteraction(1.0, (1, 3))\n",
       " HeisenbergInteraction(1.0, (2, 4))\n",
       " HeisenbergInteraction(0.2, (1, 4))\n",
       " HeisenbergInteraction(0.2, (3, 2))"
      ]
     },
     "execution_count": 10,
     "metadata": {},
     "output_type": "execute_result"
    }
   ],
   "source": [
    "mfcluster.spincluster.interactions"
   ]
  },
  {
   "cell_type": "markdown",
   "id": "580f1850-0c5c-44e2-8366-793b106942ec",
   "metadata": {},
   "source": [
    "### Applying the fixed point iteration"
   ]
  },
  {
   "cell_type": "code",
   "execution_count": null,
   "id": "74fdba15-2b70-4a6e-8234-717cf6f66c56",
   "metadata": {},
   "outputs": [],
   "source": []
  },
  {
   "cell_type": "code",
   "execution_count": null,
   "id": "a1a9856d-fd4b-4b3f-8967-61e6191b594c",
   "metadata": {},
   "outputs": [],
   "source": [
    "mfcluster."
   ]
  },
  {
   "cell_type": "code",
   "execution_count": null,
   "id": "4db893f7-d222-4e8d-b33f-1e3c5ff3d433",
   "metadata": {},
   "outputs": [],
   "source": [
    "mfcluster"
   ]
  },
  {
   "cell_type": "code",
   "execution_count": 1,
   "id": "c808810b-3978-48db-99a0-8c3b5dbcf4c2",
   "metadata": {},
   "outputs": [],
   "source": [
    "using LatticeUtilities"
   ]
  },
  {
   "cell_type": "code",
   "execution_count": null,
   "id": "1565009c-7e92-4326-a6fe-64d1094e5159",
   "metadata": {},
   "outputs": [],
   "source": []
  },
  {
   "cell_type": "code",
   "execution_count": null,
   "id": "fc806dd7-b125-4036-b491-66be92066d6c",
   "metadata": {},
   "outputs": [],
   "source": []
  }
 ],
 "metadata": {
  "kernelspec": {
   "display_name": "Julia (4 threads) 1.11.2",
   "language": "julia",
   "name": "julia-_4-threads_-1.11"
  },
  "language_info": {
   "file_extension": ".jl",
   "mimetype": "application/julia",
   "name": "julia",
   "version": "1.11.2"
  }
 },
 "nbformat": 4,
 "nbformat_minor": 5
}
